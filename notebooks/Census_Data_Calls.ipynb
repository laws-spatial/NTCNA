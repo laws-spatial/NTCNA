{
  "cells": [
    {
      "cell_type": "markdown",
      "metadata": {
        "colab_type": "text",
        "id": "view-in-github"
      },
      "source": [
        "<a href=\"https://colab.research.google.com/github/laws-spatial/NTCNA/blob/main/notebooks/Census_Data_Calls.ipynb\" target=\"_parent\"><img src=\"https://colab.research.google.com/assets/colab-badge.svg\" alt=\"Open In Colab\"/></a>"
      ]
    },
    {
      "cell_type": "code",
      "execution_count": null,
      "metadata": {
        "colab": {
          "base_uri": "https://localhost:8080/"
        },
        "id": "C1DakmqbInaK",
        "outputId": "d6f07635-6842-49d7-a871-4eb8b79b1e23"
      },
      "outputs": [
        {
          "name": "stdout",
          "output_type": "stream",
          "text": [
            "Looking in indexes: https://pypi.org/simple, https://us-python.pkg.dev/colab-wheels/public/simple/\n",
            "Collecting geopandas\n",
            "  Downloading geopandas-0.12.2-py3-none-any.whl (1.1 MB)\n",
            "\u001b[2K     \u001b[90m━━━━━━━━━━━━━━━━━━━━━━━━━━━━━━━━━━━━━━━━\u001b[0m \u001b[32m1.1/1.1 MB\u001b[0m \u001b[31m14.2 MB/s\u001b[0m eta \u001b[36m0:00:00\u001b[0m\n",
            "\u001b[?25hCollecting census\n",
            "  Downloading census-0.8.19-py3-none-any.whl (11 kB)\n",
            "Collecting pyproj>=2.6.1.post1\n",
            "  Downloading pyproj-3.4.1-cp38-cp38-manylinux_2_17_x86_64.manylinux2014_x86_64.whl (7.8 MB)\n",
            "\u001b[2K     \u001b[90m━━━━━━━━━━━━━━━━━━━━━━━━━━━━━━━━━━━━━━━━\u001b[0m \u001b[32m7.8/7.8 MB\u001b[0m \u001b[31m37.8 MB/s\u001b[0m eta \u001b[36m0:00:00\u001b[0m\n",
            "\u001b[?25hRequirement already satisfied: pandas>=1.0.0 in /usr/local/lib/python3.8/dist-packages (from geopandas) (1.3.5)\n",
            "Requirement already satisfied: shapely>=1.7 in /usr/local/lib/python3.8/dist-packages (from geopandas) (2.0.0)\n",
            "Requirement already satisfied: packaging in /usr/local/lib/python3.8/dist-packages (from geopandas) (21.3)\n",
            "Collecting fiona>=1.8\n",
            "  Downloading Fiona-1.8.22-cp38-cp38-manylinux_2_17_x86_64.manylinux2014_x86_64.whl (16.6 MB)\n",
            "\u001b[2K     \u001b[90m━━━━━━━━━━━━━━━━━━━━━━━━━━━━━━━━━━━━━━━━\u001b[0m \u001b[32m16.6/16.6 MB\u001b[0m \u001b[31m30.5 MB/s\u001b[0m eta \u001b[36m0:00:00\u001b[0m\n",
            "\u001b[?25hRequirement already satisfied: requests>=1.1.0 in /usr/local/lib/python3.8/dist-packages (from census) (2.25.1)\n",
            "Requirement already satisfied: six>=1.7 in /usr/local/lib/python3.8/dist-packages (from fiona>=1.8->geopandas) (1.15.0)\n",
            "Collecting cligj>=0.5\n",
            "  Downloading cligj-0.7.2-py3-none-any.whl (7.1 kB)\n",
            "Requirement already satisfied: certifi in /usr/local/lib/python3.8/dist-packages (from fiona>=1.8->geopandas) (2022.12.7)\n",
            "Requirement already satisfied: attrs>=17 in /usr/local/lib/python3.8/dist-packages (from fiona>=1.8->geopandas) (22.2.0)\n",
            "Requirement already satisfied: setuptools in /usr/local/lib/python3.8/dist-packages (from fiona>=1.8->geopandas) (57.4.0)\n",
            "Collecting munch\n",
            "  Downloading munch-2.5.0-py2.py3-none-any.whl (10 kB)\n",
            "Requirement already satisfied: click>=4.0 in /usr/local/lib/python3.8/dist-packages (from fiona>=1.8->geopandas) (7.1.2)\n",
            "Collecting click-plugins>=1.0\n",
            "  Downloading click_plugins-1.1.1-py2.py3-none-any.whl (7.5 kB)\n",
            "Requirement already satisfied: numpy>=1.17.3 in /usr/local/lib/python3.8/dist-packages (from pandas>=1.0.0->geopandas) (1.21.6)\n",
            "Requirement already satisfied: pytz>=2017.3 in /usr/local/lib/python3.8/dist-packages (from pandas>=1.0.0->geopandas) (2022.7)\n",
            "Requirement already satisfied: python-dateutil>=2.7.3 in /usr/local/lib/python3.8/dist-packages (from pandas>=1.0.0->geopandas) (2.8.2)\n",
            "Requirement already satisfied: chardet<5,>=3.0.2 in /usr/local/lib/python3.8/dist-packages (from requests>=1.1.0->census) (4.0.0)\n",
            "Requirement already satisfied: idna<3,>=2.5 in /usr/local/lib/python3.8/dist-packages (from requests>=1.1.0->census) (2.10)\n",
            "Requirement already satisfied: urllib3<1.27,>=1.21.1 in /usr/local/lib/python3.8/dist-packages (from requests>=1.1.0->census) (1.24.3)\n",
            "Requirement already satisfied: pyparsing!=3.0.5,>=2.0.2 in /usr/local/lib/python3.8/dist-packages (from packaging->geopandas) (3.0.9)\n",
            "Installing collected packages: pyproj, munch, cligj, click-plugins, fiona, census, geopandas\n",
            "Successfully installed census-0.8.19 click-plugins-1.1.1 cligj-0.7.2 fiona-1.8.22 geopandas-0.12.2 munch-2.5.0 pyproj-3.4.1\n"
          ]
        }
      ],
      "source": [
        "!pip install geopandas census"
      ]
    },
    {
      "cell_type": "code",
      "execution_count": null,
      "metadata": {
        "id": "yBrfHCt2WMmO"
      },
      "outputs": [],
      "source": [
        "# import libraries\n",
        "import pandas as pd #work with tabular data\n",
        "import os #used to set working directory in Google Drive\n",
        "import requests # web service accesses\n",
        "import geopandas as gpd # spatial data\n",
        "from datetime import datetime #make fields date\n",
        "from census import Census\n",
        "import pickle\n",
        "from google.colab import files\n",
        "\n",
        "%matplotlib inline\n",
        "\n",
        "#Set directory as Google Drive\n",
        "wrkDir = \"/content/drive/MyDrive/Native_American_Tribal_Needs_Assessment_Code\"\n",
        "os.chdir(wrkDir)"
      ]
    },
    {
      "cell_type": "code",
      "execution_count": null,
      "metadata": {
        "id": "T1KCCXk1NxcA"
      },
      "outputs": [],
      "source": [
        "%run \"/content/drive/MyDrive/Native_American_Tribal_Needs_Assessment_Code/script/helpers.py\""
      ]
    },
    {
      "cell_type": "code",
      "execution_count": null,
      "metadata": {
        "colab": {
          "base_uri": "https://localhost:8080/"
        },
        "id": "eLToMDK9PF0H",
        "outputId": "ca297e9d-befd-4806-e614-2c50884a603b"
      },
      "outputs": [
        {
          "name": "stdout",
          "output_type": "stream",
          "text": [
            "83dd3d2dbaca15f49b987d0aa4e24856d0cc8ac9\n"
          ]
        }
      ],
      "source": [
        "with open('./data/api_key.txt') as key:\n",
        "    api_key=key.read().strip()\n",
        "\n",
        "print(api_key)"
      ]
    },
    {
      "cell_type": "code",
      "execution_count": null,
      "metadata": {
        "id": "xO-lb64-PF0I"
      },
      "outputs": [],
      "source": [
        "# village = [santee, rosalie, macy, walthill, winnebego]\n",
        "vil_codes = [43475, 42250, 30170, 51245, 53275]\n",
        "\n",
        "#years 2011 - 2021\n",
        "years = range(2011, 2022)\n",
        "\n",
        "#set global constants\n",
        "stFIPS = \"31\"\n",
        "\n",
        "c = Census(api_key)"
      ]
    },
    {
      "cell_type": "code",
      "execution_count": null,
      "metadata": {
        "id": "0AysCqNDOK2T"
      },
      "outputs": [],
      "source": [
        "# census code tables\n",
        "code_table = [\"A\", \"B\", \"C\", \"D\", \"E\", \"F\", \"G\", \"I\"]\n",
        "\n",
        "# tables of interest\n",
        "tables = [\"B17001\", \"B01001\", \"B01002\"]\n",
        "\n",
        "# dictionarys of column suffixes\n",
        "B01002_col_suf = [\"_001E\"]\n",
        "B17001_col_suf = [\"_001E\", \"_002E\", \"_004E\", \"_005E\", \"_006E\", \"_007E\", \"_008E\",\n",
        "               \"_009E\", \"_018E\", \"_019E\", \"_020E\", \"_021E\",\"_022E\", \"_023E\"]\n",
        "\n",
        "race_col_suf = {\"B01001\": ['_001E', '_003E', '_004E', '_005E', '_006E', '_007E',\n",
        "                           '_008E', '_009E', '_010E', '_011E', '_012E', '_013E', \n",
        "                           '_014E', '_015E', '_016E', '_018E', '_019E', '_020E',\n",
        "                           '_021E', '_022E', '_023E', '_024E', '_025E', '_026E', \n",
        "                           '_027E', '_028E', '_029E', '_030E', '_031E'],\n",
        "                \"B01002\": B01002_col_suf,\n",
        "                \"B17001\": B17001_col_suf}\n",
        "totpop_col_suf = {\"B01001\": ['_001E', '_003E', '_004E', '_005E', '_006E', '_007E',\n",
        "                              '_008E', '_009E', '_010E', '_011E', '_012E', '_013E', \n",
        "                              '_014E', '_015E', '_016E', '_017E', '_018E', '_019E', \n",
        "                              '_020E', '_021E', '_022E', '_023E', '_024E', '_025E', \n",
        "                              '_027E', '_028E', '_029E', '_030E', '_031E', '_032E', \n",
        "                              '_033E', '_034E', '_035E', '_036E', '_037E', '_038E', \n",
        "                              '_039E', '_040E', '_041E', '_042E', '_043E', '_044E', \n",
        "                              '_045E', '_046E', '_048E', '_047E', '_049E'],\n",
        "                \"B01002\": B01002_col_suf,\n",
        "                \"B17001\": B17001_col_suf}"
      ]
    },
    {
      "cell_type": "code",
      "execution_count": null,
      "metadata": {
        "id": "GJubqXlxUSpQ"
      },
      "outputs": [],
      "source": [
        "# get columns\n",
        "col = Construct_columns(code_table, tables=tables, race_col_suf=race_col_suf, totpop_col_suf=totpop_col_suf)\n",
        "\n",
        "cols = col.construct_columns()"
      ]
    },
    {
      "cell_type": "code",
      "execution_count": null,
      "metadata": {
        "colab": {
          "base_uri": "https://localhost:8080/"
        },
        "id": "7EoIRthGQCwS",
        "outputId": "c13b10e3-c766-48a8-8747-bc123a44e661"
      },
      "outputs": [
        {
          "name": "stdout",
          "output_type": "stream",
          "text": [
            "2011 done\n",
            "2012 done\n",
            "2013 done\n",
            "2014 done\n",
            "2015 done\n",
            "2016 done\n",
            "2017 done\n",
            "2018 done\n",
            "2019 done\n",
            "2020 done\n",
            "US-State 2021 had an exception: Geography is not available in 2021. Available years include (2020, 2019, 2018, 2017, 2016, 2015, 2014, 2013, 2012, 2011, 2010, 2009)\n",
            "Place 2021 had an exception: Geography is not available in 2021. Available years include (2020, 2019, 2018, 2017, 2016, 2015, 2014, 2013, 2012, 2011, 2010, 2009)\n",
            "Place 2021 had an exception: Geography is not available in 2021. Available years include (2020, 2019, 2018, 2017, 2016, 2015, 2014, 2013, 2012, 2011, 2010, 2009)\n",
            "Place 2021 had an exception: Geography is not available in 2021. Available years include (2020, 2019, 2018, 2017, 2016, 2015, 2014, 2013, 2012, 2011, 2010, 2009)\n",
            "Place 2021 had an exception: Geography is not available in 2021. Available years include (2020, 2019, 2018, 2017, 2016, 2015, 2014, 2013, 2012, 2011, 2010, 2009)\n",
            "Place 2021 had an exception: Geography is not available in 2021. Available years include (2020, 2019, 2018, 2017, 2016, 2015, 2014, 2013, 2012, 2011, 2010, 2009)\n",
            "2021 done\n"
          ]
        }
      ],
      "source": [
        "# blank dataframes\n",
        "places = pd.DataFrame([])\n",
        "state = pd.DataFrame()\n",
        "us = pd.DataFrame()\n",
        "\n",
        "# request\n",
        "for year in years:\n",
        "  try:\n",
        "    # send request to census bureau for state and US info\n",
        "    acs5_resp_state = pd.DataFrame(c.acs5.state(cols, stFIPS, year=year))\n",
        "    acs5_resp_us = pd.DataFrame(c.acs5.us(cols, year=year))\n",
        "\n",
        "    # add year\n",
        "    acs5_resp_state[\"year\"] = year\n",
        "    acs5_resp_us[\"year\"] = year\n",
        "\n",
        "    # concat dataframes\n",
        "    state = pd.concat([state, acs5_resp_state], axis=0)\n",
        "    us = pd.concat([us, acs5_resp_us], axis=0)\n",
        "\n",
        "  except Exception as e:\n",
        "      print(f\"US-State {str(year)} had an exception: {e}\")\n",
        "\n",
        "  for vil in vil_codes:\n",
        "    try:\n",
        "      #create call\n",
        "      place = str(vil)\n",
        "\n",
        "      #send request to census bureau\n",
        "      acs5_resp = c.acs5.state_place(cols, stFIPS, place, year=year)\n",
        " \n",
        "      # convert response to dataframe\n",
        "      vill = pd.DataFrame.from_dict(acs5_resp)\n",
        "      \n",
        "      vill[\"year\"] = year\n",
        "      vill[\"entityID\"] = int(vil)\n",
        "\n",
        "      #concat dataframe\n",
        "      places = pd.concat([places, vill], axis = 0)\n",
        "      \n",
        "    except Exception as e:\n",
        "      print(f\"Place {str(year)} had an exception: {e}\")\n",
        "  print(f\"{str(year)} done\")"
      ]
    },
    {
      "cell_type": "markdown",
      "metadata": {
        "id": "wEMoRzQGaiNR"
      },
      "source": [
        "Remove negative numbers"
      ]
    },
    {
      "cell_type": "code",
      "execution_count": null,
      "metadata": {
        "id": "IJq01ktCaiNR"
      },
      "outputs": [],
      "source": [
        "dataframes = [places, state, us]\n",
        "for df in dataframes:\n",
        "  for col in list(df.columns.values):\n",
        "    if df[col].dtype == \"float64\":\n",
        "      df[col].where(df[col] > 0, 0, inplace=True)\n",
        "  else:\n",
        "    pass"
      ]
    },
    {
      "cell_type": "markdown",
      "metadata": {
        "id": "rF4vUeA6rbx5"
      },
      "source": [
        "Copy dataframes"
      ]
    },
    {
      "cell_type": "code",
      "execution_count": null,
      "metadata": {
        "id": "C1ACe7iEraxo"
      },
      "outputs": [],
      "source": [
        "places2 = places.copy()\n",
        "state2 = state.copy()\n",
        "us2 = us.copy()"
      ]
    },
    {
      "cell_type": "code",
      "execution_count": null,
      "metadata": {
        "id": "L2-1uwBQeYSq"
      },
      "outputs": [],
      "source": [
        "labels_dict = {\n",
        "    \"total\": \"\",\n",
        "    \"white\":\"A\",\n",
        "    \"black\": \"B\",\n",
        "    \"nat\": \"C\",\n",
        "    \"asian\": \"D\",\n",
        "    \"pacisl\": \"E\",\n",
        "    \"other\": \"F\",\n",
        "    \"mult\": \"G\",\n",
        "    \"his\": \"I\"\n",
        "}"
      ]
    },
    {
      "cell_type": "code",
      "execution_count": null,
      "metadata": {
        "id": "4wnEfmLkr98Z"
      },
      "outputs": [],
      "source": [
        "class Census_calc:\n",
        "  def __init__(self, df, df_label, labels_dict=labels_dict):\n",
        "    self.df = df \n",
        "    self.df_label = df_label\n",
        "    self.labels_dict = labels_dict \n",
        "\n",
        "  def agegroup_calc(self):\n",
        "    df = self.df\n",
        "    df_label = self.df_label\n",
        "    labels_dict = self.labels_dict\n",
        "\n",
        "    for race, label in labels_dict.items():\n",
        "      if race == \"total\":\n",
        "        # under 18\n",
        "        df[f\"{df_label}_age_total_und18\"] = round(df[[\"B01001_003E\", \"B01001_004E\", \"B01001_005E\", \"B01001_006E\", \n",
        "                                                  \"B01001_027E\", \"B01001_028E\", \"B01001_029E\", \"B01001_030E\"]]\n",
        "                                          .sum(axis=1) / df[\"B01001_001E\"] * 100, 1)\n",
        "        # 18-64\n",
        "        df[f\"{df_label}_age_total_18_64\"] = round(df[[\"B01001_007E\", \"B01001_008E\", \"B01001_009E\", \"B01001_010E\", \n",
        "                                                  \"B01001_011E\", \"B01001_012E\", \"B01001_013E\", \"B01001_014E\", \n",
        "                                                  \"B01001_015E\", \"B01001_016E\", \"B01001_017E\", \"B01001_018E\",\n",
        "                                                  \"B01001_019E\", \"B01001_031E\", \"B01001_032E\", \"B01001_033E\", \n",
        "                                                  \"B01001_034E\", \"B01001_035E\", \"B01001_036E\", \"B01001_037E\", \n",
        "                                                  \"B01001_038E\", \"B01001_039E\", \"B01001_040E\", \"B01001_041E\", \n",
        "                                                  \"B01001_042E\", \"B01001_043E\"]]\n",
        "                                          .sum(axis=1) / df[\"B01001_001E\"] * 100, 1)\n",
        "        # 65+\n",
        "        df[f\"{df_label}_age_total_ov65\"] = round(df[[\"B01001_020E\", \"B01001_021E\", \"B01001_022E\", \"B01001_023E\", \n",
        "                                                  \"B01001_024E\", \"B01001_025E\", \"B01001_044E\", \"B01001_045E\", \n",
        "                                                  \"B01001_046E\", \"B01001_047E\", \"B01001_048E\", \"B01001_049E\"]]\n",
        "                                          .sum(axis=1) / df[\"B01001_001E\"] * 100, 1)\n",
        "        # total population\n",
        "        df[f\"{df_label}_pop_total\"] = df[f\"B01001_001E\"].astype(int)\n",
        "      else:\n",
        "        # under 18\n",
        "        df[f\"{df_label}_age_{race}_und18\"] = round(df[[f\"B01001{label}_003E\", f\"B01001{label}_004E\", f\"B01001{label}_005E\", f\"B01001{label}_006E\", \n",
        "                                                    f\"B01001{label}_018E\", f\"B01001{label}_019E\", f\"B01001{label}_020E\", f\"B01001{label}_021E\"]]\n",
        "                                            .sum(axis=1) / df[f\"B01001{label}_001E\"] * 100, 1)\n",
        "        # 18-64\n",
        "        df[f\"{df_label}_age_{race}_18_64\"] = round(df[[f\"B01001{label}_007E\", f\"B01001{label}_008E\", f\"B01001{label}_009E\", f\"B01001{label}_010E\",\n",
        "                                                    f\"B01001{label}_011E\", f\"B01001{label}_012E\", f\"B01001{label}_013E\", f\"B01001{label}_021E\", \n",
        "                                                    f\"B01001{label}_022E\", f\"B01001{label}_023E\", f\"B01001{label}_024E\", f\"B01001{label}_025E\", \n",
        "                                                    f\"B01001{label}_026E\", f\"B01001{label}_027E\", f\"B01001{label}_028E\"]]\n",
        "                                            .sum(axis=1) / df[f\"B01001{label}_001E\"] * 100, 1)\n",
        "        # 65+\n",
        "        df[f\"{df_label}_age_{race}_ov65\"] = round(df[[f\"B01001{label}_014E\", f\"B01001{label}_015E\", f\"B01001{label}_016E\", f\"B01001{label}_029E\",\n",
        "                                                    f\"B01001{label}_030E\", f\"B01001{label}_031E\"]]\n",
        "                                            .sum(axis=1) / df[f\"B01001{label}_001E\"] * 100, 1)\n",
        "        # total population\n",
        "        df[f\"{df_label}_pop_{race}\"] = df[f\"B01001{label}_001E\"].astype(int)\n",
        "\n",
        "    return df\n",
        "\n",
        "  def medage_calc(self):\n",
        "    df = self.df\n",
        "    df_label = self.df_label\n",
        "    labels_dict = self.labels_dict\n",
        "\n",
        "    for race, label in labels_dict.items():\n",
        "      df[f\"{df_label}_medage_{race}\"] = round(df[f\"B01002{label}_001E\"], 1)\n",
        "\n",
        "    return df\n",
        "  \n",
        "  def poverty_calc(self):\n",
        "    df = self.df\n",
        "    df_label = self.df_label\n",
        "    labels_dict = self.labels_dict\n",
        "    \n",
        "    for race, label in labels_dict.items():\n",
        "      # percentage of total\n",
        "      df[f\"{df_label}_pov_{race}_tot\"] = round(df[f\"B17001{label}_002E\"] / df[f\"B17001{label}_001E\"] * 100, 1)\n",
        "      # under 18 percentage\n",
        "      df[f\"{df_label}_pov_{race}_18\"] = round(df[[f\"B17001{label}_004E\", f\"B17001{label}_005E\", f\"B17001{label}_006E\", f\"B17001{label}_007E\", \n",
        "                                              f\"B17001{label}_008E\", f\"B17001{label}_009E\", f\"B17001{label}_018E\", f\"B17001{label}_019E\", \n",
        "                                              f\"B17001{label}_020E\", f\"B17001{label}_021E\", f\"B17001{label}_022E\", f\"B17001{label}_023E\"]]\n",
        "                                      .sum(axis=1) / df[f\"B17001{label}_001E\"] * 100, 1)\n",
        "      \n",
        "    return df\n",
        "\n",
        "  def perform_calcs(self):\n",
        "    df = self.df\n",
        "    df = self.agegroup_calc()\n",
        "    df = self.medage_calc()\n",
        "    df = self.poverty_calc()\n",
        "\n",
        "    return df"
      ]
    },
    {
      "cell_type": "code",
      "execution_count": null,
      "metadata": {
        "id": "Myvpq_C10ldX"
      },
      "outputs": [],
      "source": [
        "def subset_cols(df, col_pre):\n",
        "  if col_pre == \"pl\":\n",
        "    cols = [\"NAME\", \"year\", \"entityID\"]\n",
        "  else:\n",
        "    cols = [\"NAME\", \"year\"]\n",
        "  col_pre = col_pre + \"_\"\n",
        "  more_cols = [col for col in df.columns.values if col[0:3] == f\"{col_pre}\"]\n",
        "  cols.extend(more_cols)\n",
        "\n",
        "  df = df[cols]\n",
        "\n",
        "  return df"
      ]
    },
    {
      "cell_type": "code",
      "execution_count": null,
      "metadata": {
        "id": "6FReCFOXukEh"
      },
      "outputs": [],
      "source": [
        "# places\n",
        "new_calc_pl = Census_calc(places2, \"pl\")\n",
        "places2 = new_calc_pl.perform_calcs()\n",
        "places2 = subset_cols(places2, \"pl\")\n",
        "\n",
        "# state\n",
        "new_calc_st = Census_calc(state2, \"st\")\n",
        "state2 = new_calc_st.perform_calcs()\n",
        "state2 = subset_cols(state2, \"st\")\n",
        "\n",
        "# us\n",
        "new_calc_us = Census_calc(us2, \"us\")\n",
        "us2 = new_calc_us.perform_calcs()\n",
        "us2 = subset_cols(us2, \"us\")"
      ]
    },
    {
      "cell_type": "code",
      "execution_count": null,
      "metadata": {
        "id": "3rmu1zLDwJ7C"
      },
      "outputs": [],
      "source": [
        "places2.shape"
      ]
    },
    {
      "cell_type": "code",
      "execution_count": null,
      "metadata": {
        "id": "nT_x8CGhywDW"
      },
      "outputs": [],
      "source": [
        "state2.shape"
      ]
    },
    {
      "cell_type": "code",
      "execution_count": null,
      "metadata": {
        "id": "Rc46i38yy1in"
      },
      "outputs": [],
      "source": [
        "us2.shape"
      ]
    },
    {
      "cell_type": "markdown",
      "metadata": {
        "id": "_xHAPUebtZbo"
      },
      "source": [
        "**Merge US and state to places**"
      ]
    },
    {
      "cell_type": "code",
      "execution_count": null,
      "metadata": {
        "colab": {
          "base_uri": "https://localhost:8080/"
        },
        "id": "2cnGttmCtc3H",
        "outputId": "9eb16cd2-a69f-41da-8e24-e89f85f9dcbf"
      },
      "outputs": [
        {
          "name": "stdout",
          "output_type": "stream",
          "text": [
            "(50, 66)\n"
          ]
        }
      ],
      "source": [
        "# merge us to places\n",
        "print(places2.shape)\n",
        "places_us = places2.merge(us2, how=\"inner\", on=\"year\")\n",
        "# print(places_us.shape)"
      ]
    },
    {
      "cell_type": "code",
      "execution_count": null,
      "metadata": {
        "id": "TQ7TzU5_QkJZ"
      },
      "outputs": [],
      "source": [
        "places_us_st = places_us.merge(state2, how=\"inner\", on=\"year\")\n",
        "places_us_st = places_us_st.fillna(0)\n",
        "# print(places_us_st.shape)"
      ]
    },
    {
      "cell_type": "markdown",
      "metadata": {
        "id": "j1Kqia5tiOXs"
      },
      "source": [
        "**Bring in geometries and merge tabular data**"
      ]
    },
    {
      "cell_type": "code",
      "execution_count": null,
      "metadata": {
        "id": "On4aWP_xZtGn"
      },
      "outputs": [],
      "source": [
        "#create merge key\n",
        "places_us_st[\"PLACEFIPS\"] = \"31\" + places_us_st[\"entityID\"].astype(str)\n",
        "places_us_st = places_us_st.copy()\n",
        "places_us_st = places_us_st.drop([\"NAME_x\", \"NAME_y\", \"NAME\"], axis=1)\n",
        "# print(places_us_st.columns.values)"
      ]
    },
    {
      "cell_type": "code",
      "execution_count": null,
      "metadata": {
        "id": "qo3qlxa7HCrH"
      },
      "outputs": [],
      "source": [
        "#bring in places geometries\n",
        "places_geos = gpd.read_file(\"https://services.arcgis.com/P3ePLMYs2RVChkJx/arcgis/rest/services/USA_Census_Populated_Places/FeatureServer/0/query?where=PLACEFIPS%20%3D%20'3143475'%20OR%20PLACEFIPS%20%3D%20'3142250'%20OR%20PLACEFIPS%20%3D%20'3130170'%20OR%20PLACEFIPS%20%3D%20'3138750'%20OR%20PLACEFIPS%20%3D%20'3151245'%20OR%20PLACEFIPS%20%3D%20'3148900'%20OR%20PLACEFIPS%20%3D%20'3153275'&outFields=NAME,STFIPS,PLACEFIPS&outSR=4326&f=json\")\n",
        "places_geos = places_geos[[\"NAME\", \"PLACEFIPS\", \"geometry\"]]\n"
      ]
    },
    {
      "cell_type": "code",
      "execution_count": null,
      "metadata": {
        "colab": {
          "base_uri": "https://localhost:8080/"
        },
        "id": "H7PD1XRPJmR_",
        "outputId": "696625bc-2616-4943-b10b-eb84cf822ae1"
      },
      "outputs": [
        {
          "name": "stdout",
          "output_type": "stream",
          "text": [
            "(7, 3)\n",
            "(50, 194)\n"
          ]
        }
      ],
      "source": [
        "# merge places to geos and keep all rows\n",
        "print(places_geos.shape)\n",
        "places_full = places_geos.merge(places_us_st, how=\"right\", on=\"PLACEFIPS\")\n",
        "print(places_full.shape)"
      ]
    },
    {
      "cell_type": "code",
      "execution_count": null,
      "metadata": {
        "id": "pMmUIJFiVxRc"
      },
      "outputs": [],
      "source": [
        "# convert year from integer to datetime\n",
        "places_full['year'] = pd.to_datetime(places_full[\"year\"].astype(str) + \"-06-01\")\n",
        "# places_full[\"year\"]"
      ]
    },
    {
      "cell_type": "code",
      "execution_count": null,
      "metadata": {
        "colab": {
          "base_uri": "https://localhost:8080/"
        },
        "id": "tCFprR7Y-muF",
        "outputId": "aa11df9d-5ab9-4090-a002-6a393a59de05"
      },
      "outputs": [
        {
          "data": {
            "text/plain": [
              "0    2011-06-01\n",
              "1    2011-06-01\n",
              "2    2011-06-01\n",
              "3    2011-06-01\n",
              "4    2011-06-01\n",
              "5    2012-06-01\n",
              "6    2012-06-01\n",
              "7    2012-06-01\n",
              "8    2012-06-01\n",
              "9    2012-06-01\n",
              "10   2013-06-01\n",
              "11   2013-06-01\n",
              "12   2013-06-01\n",
              "13   2013-06-01\n",
              "14   2013-06-01\n",
              "15   2014-06-01\n",
              "16   2014-06-01\n",
              "17   2014-06-01\n",
              "18   2014-06-01\n",
              "19   2014-06-01\n",
              "20   2015-06-01\n",
              "21   2015-06-01\n",
              "22   2015-06-01\n",
              "23   2015-06-01\n",
              "24   2015-06-01\n",
              "25   2016-06-01\n",
              "26   2016-06-01\n",
              "27   2016-06-01\n",
              "28   2016-06-01\n",
              "29   2016-06-01\n",
              "30   2017-06-01\n",
              "31   2017-06-01\n",
              "32   2017-06-01\n",
              "33   2017-06-01\n",
              "34   2017-06-01\n",
              "35   2018-06-01\n",
              "36   2018-06-01\n",
              "37   2018-06-01\n",
              "38   2018-06-01\n",
              "39   2018-06-01\n",
              "40   2019-06-01\n",
              "41   2019-06-01\n",
              "42   2019-06-01\n",
              "43   2019-06-01\n",
              "44   2019-06-01\n",
              "45   2020-06-01\n",
              "46   2020-06-01\n",
              "47   2020-06-01\n",
              "48   2020-06-01\n",
              "49   2020-06-01\n",
              "Name: year, dtype: datetime64[ns]"
            ]
          },
          "execution_count": 25,
          "metadata": {},
          "output_type": "execute_result"
        }
      ],
      "source": [
        "places_full[\"year\"]"
      ]
    },
    {
      "cell_type": "code",
      "execution_count": null,
      "metadata": {
        "id": "HmEIKmETn-qw"
      },
      "outputs": [],
      "source": [
        "# black_cols = places_full.filter(like='age_black').columns.values.tolist()\n",
        "# black_cols\n",
        "# places_full[black_cols].head(10)"
      ]
    },
    {
      "cell_type": "code",
      "execution_count": null,
      "metadata": {
        "id": "O064xv2R7JtZ"
      },
      "outputs": [],
      "source": [
        "# places_full[[\"pl_age_black_und18\",\t\"pl_age_black_18_64\",\t\"pl_age_black_ov65\"]]"
      ]
    },
    {
      "cell_type": "markdown",
      "metadata": {
        "id": "v3Ikz9R6pXGZ"
      },
      "source": [
        "Change data type of year"
      ]
    },
    {
      "cell_type": "code",
      "execution_count": null,
      "metadata": {
        "id": "DqV9ZO1DpZPC"
      },
      "outputs": [],
      "source": [
        "df = gpd.read_file(\"data/ne_ntcna_places_census_updated_all.geojson\")"
      ]
    },
    {
      "cell_type": "code",
      "execution_count": null,
      "metadata": {
        "id": "N-bNSMDzp5vk"
      },
      "outputs": [],
      "source": [
        "from datetime import datetime\n",
        "df[\"year\"] = pd.to_datetime(df[\"year\"])\n",
        "df[\"year_int\"] = df[\"year\"].dt.strftime(\"%Y-%m-%d\")\n",
        "df.drop(\"year\", axis=1, inplace=True)"
      ]
    },
    {
      "cell_type": "code",
      "execution_count": null,
      "metadata": {
        "colab": {
          "base_uri": "https://localhost:8080/",
          "height": 646
        },
        "id": "FTYd8u6ZpnqQ",
        "outputId": "8377f979-9638-4e50-c283-ee0a2d9aa6e7"
      },
      "outputs": [
        {
          "data": {
            "text/html": [
              "\n",
              "  <div id=\"df-598ce658-6b8b-4021-9a2a-e98d113a8d83\">\n",
              "    <div class=\"colab-df-container\">\n",
              "      <div>\n",
              "<style scoped>\n",
              "    .dataframe tbody tr th:only-of-type {\n",
              "        vertical-align: middle;\n",
              "    }\n",
              "\n",
              "    .dataframe tbody tr th {\n",
              "        vertical-align: top;\n",
              "    }\n",
              "\n",
              "    .dataframe thead th {\n",
              "        text-align: right;\n",
              "    }\n",
              "</style>\n",
              "<table border=\"1\" class=\"dataframe\">\n",
              "  <thead>\n",
              "    <tr style=\"text-align: right;\">\n",
              "      <th></th>\n",
              "      <th>NAME</th>\n",
              "      <th>PLACEFIPS</th>\n",
              "      <th>entityID</th>\n",
              "      <th>pl_age_tot_und18</th>\n",
              "      <th>pl_age_tot_18_64</th>\n",
              "      <th>pl_age_tot_ov65</th>\n",
              "      <th>pl_pop_tot</th>\n",
              "      <th>pl_age_white_und18</th>\n",
              "      <th>pl_age_white_18_64</th>\n",
              "      <th>pl_age_white_ov65</th>\n",
              "      <th>...</th>\n",
              "      <th>st_pov_pacisl_tot</th>\n",
              "      <th>st_pov_pacisl_18</th>\n",
              "      <th>st_pov_other_tot</th>\n",
              "      <th>st_pov_other_18</th>\n",
              "      <th>st_pov_mult_tot</th>\n",
              "      <th>st_pov_mult_18</th>\n",
              "      <th>st_pov_his_tot</th>\n",
              "      <th>st_pov_his_18</th>\n",
              "      <th>geometry</th>\n",
              "      <th>year_int</th>\n",
              "    </tr>\n",
              "  </thead>\n",
              "  <tbody>\n",
              "    <tr>\n",
              "      <th>0</th>\n",
              "      <td>Santee</td>\n",
              "      <td>3143475</td>\n",
              "      <td>43475</td>\n",
              "      <td>44.9</td>\n",
              "      <td>54.5</td>\n",
              "      <td>0.6</td>\n",
              "      <td>334.0</td>\n",
              "      <td>0.0</td>\n",
              "      <td>94.4</td>\n",
              "      <td>5.6</td>\n",
              "      <td>...</td>\n",
              "      <td>50.8</td>\n",
              "      <td>32.0</td>\n",
              "      <td>23.3</td>\n",
              "      <td>11.5</td>\n",
              "      <td>23.7</td>\n",
              "      <td>14.3</td>\n",
              "      <td>24.3</td>\n",
              "      <td>12.7</td>\n",
              "      <td>POLYGON ((-97.85201 42.84192, -97.85185 42.841...</td>\n",
              "      <td>2011-06-01</td>\n",
              "    </tr>\n",
              "    <tr>\n",
              "      <th>1</th>\n",
              "      <td>Rosalie</td>\n",
              "      <td>3142250</td>\n",
              "      <td>42250</td>\n",
              "      <td>24.7</td>\n",
              "      <td>53.7</td>\n",
              "      <td>21.6</td>\n",
              "      <td>231.0</td>\n",
              "      <td>13.8</td>\n",
              "      <td>59.6</td>\n",
              "      <td>26.6</td>\n",
              "      <td>...</td>\n",
              "      <td>50.8</td>\n",
              "      <td>32.0</td>\n",
              "      <td>23.3</td>\n",
              "      <td>11.5</td>\n",
              "      <td>23.7</td>\n",
              "      <td>14.3</td>\n",
              "      <td>24.3</td>\n",
              "      <td>12.7</td>\n",
              "      <td>POLYGON ((-96.50927 42.06107, -96.50932 42.060...</td>\n",
              "      <td>2011-06-01</td>\n",
              "    </tr>\n",
              "    <tr>\n",
              "      <th>2</th>\n",
              "      <td>Macy</td>\n",
              "      <td>3130170</td>\n",
              "      <td>30170</td>\n",
              "      <td>53.5</td>\n",
              "      <td>42.4</td>\n",
              "      <td>4.1</td>\n",
              "      <td>851.0</td>\n",
              "      <td>0.0</td>\n",
              "      <td>15.4</td>\n",
              "      <td>84.6</td>\n",
              "      <td>...</td>\n",
              "      <td>50.8</td>\n",
              "      <td>32.0</td>\n",
              "      <td>23.3</td>\n",
              "      <td>11.5</td>\n",
              "      <td>23.7</td>\n",
              "      <td>14.3</td>\n",
              "      <td>24.3</td>\n",
              "      <td>12.7</td>\n",
              "      <td>POLYGON ((-96.37321 42.12605, -96.37278 42.125...</td>\n",
              "      <td>2011-06-01</td>\n",
              "    </tr>\n",
              "    <tr>\n",
              "      <th>3</th>\n",
              "      <td>Pender</td>\n",
              "      <td>3138750</td>\n",
              "      <td>38750</td>\n",
              "      <td>21.6</td>\n",
              "      <td>55.8</td>\n",
              "      <td>22.6</td>\n",
              "      <td>1152.0</td>\n",
              "      <td>21.5</td>\n",
              "      <td>57.1</td>\n",
              "      <td>23.4</td>\n",
              "      <td>...</td>\n",
              "      <td>50.8</td>\n",
              "      <td>32.0</td>\n",
              "      <td>23.3</td>\n",
              "      <td>11.5</td>\n",
              "      <td>23.7</td>\n",
              "      <td>14.3</td>\n",
              "      <td>24.3</td>\n",
              "      <td>12.7</td>\n",
              "      <td>POLYGON ((-96.71631 42.11889, -96.71632 42.117...</td>\n",
              "      <td>2011-06-01</td>\n",
              "    </tr>\n",
              "    <tr>\n",
              "      <th>4</th>\n",
              "      <td>Walthill</td>\n",
              "      <td>3151245</td>\n",
              "      <td>51245</td>\n",
              "      <td>33.7</td>\n",
              "      <td>54.9</td>\n",
              "      <td>11.4</td>\n",
              "      <td>861.0</td>\n",
              "      <td>10.1</td>\n",
              "      <td>61.2</td>\n",
              "      <td>28.7</td>\n",
              "      <td>...</td>\n",
              "      <td>50.8</td>\n",
              "      <td>32.0</td>\n",
              "      <td>23.3</td>\n",
              "      <td>11.5</td>\n",
              "      <td>23.7</td>\n",
              "      <td>14.3</td>\n",
              "      <td>24.3</td>\n",
              "      <td>12.7</td>\n",
              "      <td>POLYGON ((-96.49161 42.15520, -96.49145 42.151...</td>\n",
              "      <td>2011-06-01</td>\n",
              "    </tr>\n",
              "  </tbody>\n",
              "</table>\n",
              "<p>5 rows × 194 columns</p>\n",
              "</div>\n",
              "      <button class=\"colab-df-convert\" onclick=\"convertToInteractive('df-598ce658-6b8b-4021-9a2a-e98d113a8d83')\"\n",
              "              title=\"Convert this dataframe to an interactive table.\"\n",
              "              style=\"display:none;\">\n",
              "        \n",
              "  <svg xmlns=\"http://www.w3.org/2000/svg\" height=\"24px\"viewBox=\"0 0 24 24\"\n",
              "       width=\"24px\">\n",
              "    <path d=\"M0 0h24v24H0V0z\" fill=\"none\"/>\n",
              "    <path d=\"M18.56 5.44l.94 2.06.94-2.06 2.06-.94-2.06-.94-.94-2.06-.94 2.06-2.06.94zm-11 1L8.5 8.5l.94-2.06 2.06-.94-2.06-.94L8.5 2.5l-.94 2.06-2.06.94zm10 10l.94 2.06.94-2.06 2.06-.94-2.06-.94-.94-2.06-.94 2.06-2.06.94z\"/><path d=\"M17.41 7.96l-1.37-1.37c-.4-.4-.92-.59-1.43-.59-.52 0-1.04.2-1.43.59L10.3 9.45l-7.72 7.72c-.78.78-.78 2.05 0 2.83L4 21.41c.39.39.9.59 1.41.59.51 0 1.02-.2 1.41-.59l7.78-7.78 2.81-2.81c.8-.78.8-2.07 0-2.86zM5.41 20L4 18.59l7.72-7.72 1.47 1.35L5.41 20z\"/>\n",
              "  </svg>\n",
              "      </button>\n",
              "      \n",
              "  <style>\n",
              "    .colab-df-container {\n",
              "      display:flex;\n",
              "      flex-wrap:wrap;\n",
              "      gap: 12px;\n",
              "    }\n",
              "\n",
              "    .colab-df-convert {\n",
              "      background-color: #E8F0FE;\n",
              "      border: none;\n",
              "      border-radius: 50%;\n",
              "      cursor: pointer;\n",
              "      display: none;\n",
              "      fill: #1967D2;\n",
              "      height: 32px;\n",
              "      padding: 0 0 0 0;\n",
              "      width: 32px;\n",
              "    }\n",
              "\n",
              "    .colab-df-convert:hover {\n",
              "      background-color: #E2EBFA;\n",
              "      box-shadow: 0px 1px 2px rgba(60, 64, 67, 0.3), 0px 1px 3px 1px rgba(60, 64, 67, 0.15);\n",
              "      fill: #174EA6;\n",
              "    }\n",
              "\n",
              "    [theme=dark] .colab-df-convert {\n",
              "      background-color: #3B4455;\n",
              "      fill: #D2E3FC;\n",
              "    }\n",
              "\n",
              "    [theme=dark] .colab-df-convert:hover {\n",
              "      background-color: #434B5C;\n",
              "      box-shadow: 0px 1px 3px 1px rgba(0, 0, 0, 0.15);\n",
              "      filter: drop-shadow(0px 1px 2px rgba(0, 0, 0, 0.3));\n",
              "      fill: #FFFFFF;\n",
              "    }\n",
              "  </style>\n",
              "\n",
              "      <script>\n",
              "        const buttonEl =\n",
              "          document.querySelector('#df-598ce658-6b8b-4021-9a2a-e98d113a8d83 button.colab-df-convert');\n",
              "        buttonEl.style.display =\n",
              "          google.colab.kernel.accessAllowed ? 'block' : 'none';\n",
              "\n",
              "        async function convertToInteractive(key) {\n",
              "          const element = document.querySelector('#df-598ce658-6b8b-4021-9a2a-e98d113a8d83');\n",
              "          const dataTable =\n",
              "            await google.colab.kernel.invokeFunction('convertToInteractive',\n",
              "                                                     [key], {});\n",
              "          if (!dataTable) return;\n",
              "\n",
              "          const docLinkHtml = 'Like what you see? Visit the ' +\n",
              "            '<a target=\"_blank\" href=https://colab.research.google.com/notebooks/data_table.ipynb>data table notebook</a>'\n",
              "            + ' to learn more about interactive tables.';\n",
              "          element.innerHTML = '';\n",
              "          dataTable['output_type'] = 'display_data';\n",
              "          await google.colab.output.renderOutput(dataTable, element);\n",
              "          const docLink = document.createElement('div');\n",
              "          docLink.innerHTML = docLinkHtml;\n",
              "          element.appendChild(docLink);\n",
              "        }\n",
              "      </script>\n",
              "    </div>\n",
              "  </div>\n",
              "  "
            ],
            "text/plain": [
              "       NAME PLACEFIPS  entityID  pl_age_tot_und18  pl_age_tot_18_64  \\\n",
              "0    Santee   3143475     43475              44.9              54.5   \n",
              "1   Rosalie   3142250     42250              24.7              53.7   \n",
              "2      Macy   3130170     30170              53.5              42.4   \n",
              "3    Pender   3138750     38750              21.6              55.8   \n",
              "4  Walthill   3151245     51245              33.7              54.9   \n",
              "\n",
              "   pl_age_tot_ov65  pl_pop_tot  pl_age_white_und18  pl_age_white_18_64  \\\n",
              "0              0.6       334.0                 0.0                94.4   \n",
              "1             21.6       231.0                13.8                59.6   \n",
              "2              4.1       851.0                 0.0                15.4   \n",
              "3             22.6      1152.0                21.5                57.1   \n",
              "4             11.4       861.0                10.1                61.2   \n",
              "\n",
              "   pl_age_white_ov65  ...  st_pov_pacisl_tot  st_pov_pacisl_18  \\\n",
              "0                5.6  ...               50.8              32.0   \n",
              "1               26.6  ...               50.8              32.0   \n",
              "2               84.6  ...               50.8              32.0   \n",
              "3               23.4  ...               50.8              32.0   \n",
              "4               28.7  ...               50.8              32.0   \n",
              "\n",
              "   st_pov_other_tot  st_pov_other_18  st_pov_mult_tot  st_pov_mult_18  \\\n",
              "0              23.3             11.5             23.7            14.3   \n",
              "1              23.3             11.5             23.7            14.3   \n",
              "2              23.3             11.5             23.7            14.3   \n",
              "3              23.3             11.5             23.7            14.3   \n",
              "4              23.3             11.5             23.7            14.3   \n",
              "\n",
              "   st_pov_his_tot  st_pov_his_18  \\\n",
              "0            24.3           12.7   \n",
              "1            24.3           12.7   \n",
              "2            24.3           12.7   \n",
              "3            24.3           12.7   \n",
              "4            24.3           12.7   \n",
              "\n",
              "                                            geometry    year_int  \n",
              "0  POLYGON ((-97.85201 42.84192, -97.85185 42.841...  2011-06-01  \n",
              "1  POLYGON ((-96.50927 42.06107, -96.50932 42.060...  2011-06-01  \n",
              "2  POLYGON ((-96.37321 42.12605, -96.37278 42.125...  2011-06-01  \n",
              "3  POLYGON ((-96.71631 42.11889, -96.71632 42.117...  2011-06-01  \n",
              "4  POLYGON ((-96.49161 42.15520, -96.49145 42.151...  2011-06-01  \n",
              "\n",
              "[5 rows x 194 columns]"
            ]
          },
          "execution_count": 51,
          "metadata": {},
          "output_type": "execute_result"
        }
      ],
      "source": [
        "df.head()"
      ]
    },
    {
      "cell_type": "code",
      "execution_count": null,
      "metadata": {
        "colab": {
          "base_uri": "https://localhost:8080/"
        },
        "id": "WOTwkl3zpdJV",
        "outputId": "21203df0-f00b-44ab-c514-98de79d80b3c"
      },
      "outputs": [
        {
          "data": {
            "text/plain": [
              "0   2011-06-01\n",
              "1   2011-06-01\n",
              "2   2011-06-01\n",
              "3   2011-06-01\n",
              "4   2011-06-01\n",
              "Name: year, dtype: datetime64[ns]"
            ]
          },
          "execution_count": 7,
          "metadata": {},
          "output_type": "execute_result"
        }
      ],
      "source": []
    },
    {
      "cell_type": "markdown",
      "metadata": {
        "id": "YiyRa1CanKen"
      },
      "source": [
        "**Export to json**\n"
      ]
    },
    {
      "cell_type": "code",
      "execution_count": null,
      "metadata": {
        "colab": {
          "base_uri": "https://localhost:8080/",
          "height": 17
        },
        "id": "_ISN00l1Su8Q",
        "outputId": "14399337-a4c6-473b-f153-4b76e3ed04a2"
      },
      "outputs": [
        {
          "data": {
            "application/javascript": "\n    async function download(id, filename, size) {\n      if (!google.colab.kernel.accessAllowed) {\n        return;\n      }\n      const div = document.createElement('div');\n      const label = document.createElement('label');\n      label.textContent = `Downloading \"${filename}\": `;\n      div.appendChild(label);\n      const progress = document.createElement('progress');\n      progress.max = size;\n      div.appendChild(progress);\n      document.body.appendChild(div);\n\n      const buffers = [];\n      let downloaded = 0;\n\n      const channel = await google.colab.kernel.comms.open(id);\n      // Send a message to notify the kernel that we're ready.\n      channel.send({})\n\n      for await (const message of channel.messages) {\n        // Send a message to notify the kernel that we're ready.\n        channel.send({})\n        if (message.buffers) {\n          for (const buffer of message.buffers) {\n            buffers.push(buffer);\n            downloaded += buffer.byteLength;\n            progress.value = downloaded;\n          }\n        }\n      }\n      const blob = new Blob(buffers, {type: 'application/binary'});\n      const a = document.createElement('a');\n      a.href = window.URL.createObjectURL(blob);\n      a.download = filename;\n      div.appendChild(a);\n      a.click();\n      div.remove();\n    }\n  ",
            "text/plain": [
              "<IPython.core.display.Javascript object>"
            ]
          },
          "metadata": {},
          "output_type": "display_data"
        },
        {
          "data": {
            "application/javascript": "download(\"download_0c52c06b-5df1-45dc-b001-f8d1cb260428\", \"ne_ntcna_places_census_updated_all.geojson\", 426606)",
            "text/plain": [
              "<IPython.core.display.Javascript object>"
            ]
          },
          "metadata": {},
          "output_type": "display_data"
        }
      ],
      "source": [
        "# Export geojson\n",
        "places_full.to_file(\"data/ne_ntcna_places_census_updated_all.geojson\")\n",
        "files.download(\"data/ne_ntcna_places_census_updated_all.geojson\")"
      ]
    },
    {
      "cell_type": "code",
      "execution_count": null,
      "metadata": {
        "id": "V__SzHtaOUP-"
      },
      "outputs": [],
      "source": [
        "class Construct_columns:\n",
        "  def __init__(self, code_table, tables, race_col_suf, totpop_col_suf):\n",
        "    self.code_table=code_table \n",
        "    self.tables=tables \n",
        "    self.race_col_suf=race_col_suf \n",
        "    self.totpop_col_suf=totpop_col_suf\n",
        "\n",
        "  def _totpop_columns(self):\n",
        "    col_suf_list = self.totpop_col_suf\n",
        "    tables = self.tables\n",
        "    cols = []\n",
        "    for table in tables:\n",
        "      col_suffixes = col_suf_list[table]\n",
        "      new_cols = [f\"{table}{col_suf}\" for col_suf in col_suffixes]\n",
        "      cols.extend(new_cols)\n",
        "\n",
        "    return cols\n",
        "  \n",
        "  def _single_race_columns(self, table_code, race_code):\n",
        "    col_suffixes = self.race_col_suf[table_code]\n",
        "    cols = [f\"{table_code}{race_code}{suf}\" for suf in col_suffixes]\n",
        "    return cols\n",
        "\n",
        "  def construct_columns(self):\n",
        "    cols = [\"NAME\"]\n",
        "    cols.extend(self._totpop_columns())\n",
        "    for table in self.tables:\n",
        "      for code in self.code_table:\n",
        "        new_cols = self._single_race_columns(table, code)\n",
        "        cols.extend(new_cols)\n",
        "\n",
        "    return cols"
      ]
    }
  ],
  "metadata": {
    "colab": {
      "authorship_tag": "ABX9TyPYYpwHlvTnYM0GPZrMebFu",
      "include_colab_link": true,
      "mount_file_id": "17X0ArpQKU9M97j_ka51o5o8ucxz3SPWK",
      "provenance": []
    },
    "kernelspec": {
      "display_name": "Python 3",
      "name": "python3"
    },
    "language_info": {
      "name": "python"
    }
  },
  "nbformat": 4,
  "nbformat_minor": 0
}
